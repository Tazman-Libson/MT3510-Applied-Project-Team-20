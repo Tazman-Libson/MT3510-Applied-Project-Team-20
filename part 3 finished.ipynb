{
 "cells": [
  {
   "cell_type": "code",
   "execution_count": 52,
   "id": "f60e0f00",
   "metadata": {
    "ExecuteTime": {
     "end_time": "2023-03-06T15:43:59.612568Z",
     "start_time": "2023-03-06T15:43:59.605247Z"
    }
   },
   "outputs": [],
   "source": [
    "import numpy as np \n",
    "import matplotlib.pyplot as plt\n",
    "%matplotlib inline\n",
    "from ipywidgets import interact,interactive #Used in Question 3\n",
    "from ipywidgets import fixed\n",
    "import scipy # Used in Question 4\n",
    "from scipy.interpolate import CubicSpline"
   ]
  },
  {
   "cell_type": "code",
   "execution_count": 53,
   "id": "24ac751b",
   "metadata": {
    "ExecuteTime": {
     "end_time": "2023-03-06T15:44:00.285935Z",
     "start_time": "2023-03-06T15:44:00.027811Z"
    },
    "run_control": {
     "marked": false
    }
   },
   "outputs": [
    {
     "data": {
      "application/vnd.jupyter.widget-view+json": {
       "model_id": "b104c23a074246a4bce48a462d0c9a65",
       "version_major": 2,
       "version_minor": 0
      },
      "text/plain": [
       "interactive(children=(IntSlider(value=5, description='degree', max=10, min=1), Output()), _dom_classes=('widge…"
      ]
     },
     "metadata": {},
     "output_type": "display_data"
    }
   ],
   "source": [
    "#Defining the function and knots\n",
    "f = lambda X: np.e**X*np.cos(10*X)\n",
    "\n",
    "M = 11\n",
    "x0 = np.linspace(1,2,M)\n",
    "y0 = f(x0)\n",
    "\n",
    "N = 101\n",
    "x = np.linspace(1,2,N) \n",
    "\n",
    "#Returns: Correct interpolation points depending on the number of degrees desired\n",
    "def get_points(x0, d):\n",
    "    startIndex = (len(x0)-d)//2 \n",
    "    return x0[startIndex:startIndex+d]\n",
    "\n",
    "#Returns the desired polynomial\n",
    "def make_poly(x,x0,d):\n",
    "    xorder = get_points(x0, d) #obtains the points at which we perform interpolation\n",
    "    yorder = f(xorder)\n",
    "    \n",
    "    A = np.vander(xorder)                  # construct the Vandermode matrix\n",
    "    coeff = np.linalg.solve(A,yorder)      # the first term is the coefficient of the highest order\n",
    "\n",
    "    J = len(xorder)\n",
    "    \n",
    "    pows = (J-1-np.arange(J)).reshape(J,1)         # these are the exponents required\n",
    "    xnew = np.reshape(x,(1,N))                     # reshape for the broadcast\n",
    "    y = np.sum((xnew**pows)*coeff.reshape(J,1),axis=0)\n",
    "    \n",
    "    return y\n",
    "\n",
    "#Plots all elements together\n",
    "def plot_poly(x0,y0,x,degree):              \n",
    "    # x0, y0 are the knots; x is the continuous domain; d is the degree of the polynomial\n",
    "    plt.plot(x0,f(x0),label = 'data') #plotting f(x)\n",
    "    plt.plot(x,make_poly(x,x0,degree+1),label = 'poly interpolated data') #plotting the langrange interpolation\n",
    "    plt.plot(get_points(x0,degree+1),f(get_points(x0,degree+1)),'bo') #plotting the knots\n",
    "    plt.ylim(-10, 10)\n",
    "    plt.legend()\n",
    "    plt.xlabel(\"x\")\n",
    "    plt.ylabel(\"y\")\n",
    "    plt.title(\"Polynomial Interpolation with Varying Degree\")\n",
    "    \n",
    "    return\n",
    "\n",
    "interactive(plot_poly, x0 = fixed(x0), y0 = fixed(y0),x = fixed(x), degree = (1, M-1))"
   ]
  },
  {
   "cell_type": "code",
   "execution_count": null,
   "id": "7dc496de",
   "metadata": {},
   "outputs": [],
   "source": []
  }
 ],
 "metadata": {
  "kernelspec": {
   "display_name": "Python 3 (ipykernel)",
   "language": "python",
   "name": "python3"
  },
  "language_info": {
   "codemirror_mode": {
    "name": "ipython",
    "version": 3
   },
   "file_extension": ".py",
   "mimetype": "text/x-python",
   "name": "python",
   "nbconvert_exporter": "python",
   "pygments_lexer": "ipython3",
   "version": "3.9.7"
  },
  "toc": {
   "base_numbering": 1,
   "nav_menu": {},
   "number_sections": true,
   "sideBar": true,
   "skip_h1_title": false,
   "title_cell": "Table of Contents",
   "title_sidebar": "Contents",
   "toc_cell": false,
   "toc_position": {},
   "toc_section_display": true,
   "toc_window_display": false
  },
  "varInspector": {
   "cols": {
    "lenName": 16,
    "lenType": 16,
    "lenVar": 40
   },
   "kernels_config": {
    "python": {
     "delete_cmd_postfix": "",
     "delete_cmd_prefix": "del ",
     "library": "var_list.py",
     "varRefreshCmd": "print(var_dic_list())"
    },
    "r": {
     "delete_cmd_postfix": ") ",
     "delete_cmd_prefix": "rm(",
     "library": "var_list.r",
     "varRefreshCmd": "cat(var_dic_list()) "
    }
   },
   "types_to_exclude": [
    "module",
    "function",
    "builtin_function_or_method",
    "instance",
    "_Feature"
   ],
   "window_display": false
  }
 },
 "nbformat": 4,
 "nbformat_minor": 5
}
