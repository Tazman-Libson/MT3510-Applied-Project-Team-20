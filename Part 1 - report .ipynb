{
 "cells": [
  {
   "cell_type": "raw",
   "id": "4835bcf9",
   "metadata": {},
   "source": [
    "An introduction to the problem\n",
    "\n",
    "The goal of this code is to create a function which performs a piecewise Lagrange \n",
    "polynomial interpolation.  The function is designed to take the polynomial degree, the \n",
    "(xk,yk) knots and xj ( the new evaluation point ) as input and return the interpolated yj data. \n",
    "\n",
    "Introduction to the method used + description of the code \n",
    "\n",
    "We create the function Piecewise Poly with 4 arguments. \n",
    "We set MM which is the number of points to find and corresponds to the Ndegree + 1, we set the number of polynomials to get ; which is the len() function that returns the number of characters in x0, minus the N degree. We set \"pts\" which is a small set of x points, set \"a\" which return a new array of zeros with shape MM ( Ndeg + 1) and set the powers \" pows\". \n",
    "\n",
    "In the second step we use the vander matrix to solve for a small set of x points. We use for this purpose a \"for loop\". We set y to a new array of zeros with shape len(x_j) and put the powers in correct order. \n",
    "\n",
    "Finally in a \"for loop\", we explore the three cases x_j[n]<x0, in which we set k to 0, and x_j[n] > x0, in which we set k to len(x0) - 1, and finally \"any other case\", here we find k for x_i, accounting for the possibility that x_i=x_k, and we finally obtain a new data point y. \n",
    "\n",
    "Description of the result : \n",
    "\n",
    "We test the function and plot graphs using chosen appropriate points. \n",
    "( Join a picture of the graph) "
   ]
  },
  {
   "cell_type": "code",
   "execution_count": 1,
   "id": "9243d92a",
   "metadata": {
    "ExecuteTime": {
     "end_time": "2023-02-22T16:13:59.230176Z",
     "start_time": "2023-02-22T16:13:58.772359Z"
    }
   },
   "outputs": [
    {
     "data": {
      "text/plain": [
       "[<matplotlib.lines.Line2D at 0x7f53eca72220>]"
      ]
     },
     "execution_count": 1,
     "metadata": {},
     "output_type": "execute_result"
    },
    {
     "data": {
      "image/png": "[encoded data removed]",
      "text/plain": [
       "<Figure size 432x288 with 1 Axes>"
      ]
     },
     "metadata": {
      "needs_background": "light"
     },
     "output_type": "display_data"
    }
   ],
   "source": [
    "\n",
    "def PiecewisePoly(Ndeg, x0, y0, x_j):\n",
    "    \n",
    "    #y_j = f(x_j)                     # finding f(x) for the eval pts\n",
    "    MM = Ndeg + 1                      # degree + 1 = number of points to find\n",
    "    N_interpolant = len(x0) - Ndeg      # number of polynomials to get \n",
    "    pts = np.arange(Ndeg+1) + np.arange(N_interpolant).reshape(N_interpolant,1)  # small set of x points\n",
    "    \n",
    "    a = np.zeros((Ndeg+1,N_interpolant))\n",
    "    pows = (MM-1-np.arange(MM)).reshape(MM,1)         \n",
    "    \n",
    "    # coefs for every interpolant\n",
    "    for i in range(N_interpolant):\n",
    "        A = np.vander(x0[pts[i,:]])\n",
    "        a[:,i] = np.linalg.solve(A,y0[pts[i,:]])     #vander + solving for small set of x points\n",
    "    \n",
    "     \n",
    "    y = np.zeros([len(x_j), 1])\n",
    "    \n",
    "   \n",
    "    pows = Ndeg-np.arange(MM)    #putting powers in correct order\n",
    "    \n",
    "    \n",
    "    for n in range(len(x_j)):\n",
    "        if((x_j[n]<x0).all()):\n",
    "            k=0\n",
    "        elif((x_j[n]>x0).all()):\n",
    "            k=len(x0)-1\n",
    "        else:                # find k for x_i, accounting for the possibility that x_i=x_k\n",
    "            k = np.where(((x_j[n]<x0[1:]) & (x_j[n]>=x0[:-1])) | \n",
    "                         ((x0[1:]==x_j[n]) & (x_j[n]>x0[:-1])))[0][0]\n",
    "     \n",
    "        j = k - Ndeg//2    \n",
    "        \n",
    "        j = max(0,j)\n",
    "        j = min(j,N_interpolant-1)\n",
    "        \n",
    "        y[n] = np.sum(a[:,j]*x_j[n]**pows)  # obtain new data point\n",
    "      \n",
    "    return y\n",
    "\n",
    "\n",
    "# In[2]:\n",
    "\n",
    "\n",
    "#testing function using given function and plotting graph over chosen appropriate points\n",
    "\n",
    "import numpy as np\n",
    "\n",
    "def f(x):\n",
    "    return np.exp(x)*np.cos(10*x)\n",
    "\n",
    "N = 20\n",
    "\n",
    "\n",
    "r0 = np.linspace(0,1/6,N)\n",
    "\n",
    "x1 = 1/(1- r0) # coordinate transformation to test uneven spacing\n",
    "\n",
    "y1 = f(x1)\n",
    "\n",
    "x2 = np.linspace(0.7, 1.5, 100)\n",
    "\n",
    "Y = PiecewisePoly(10, x1, y1, x2)\n",
    "\n",
    "import matplotlib.pyplot as plt\n",
    "\n",
    "get_ipython().run_line_magic('matplotlib', 'inline')\n",
    "\n",
    "plt.plot(x2, Y, \"x\", color = \"orange\")\n",
    "plt.plot(x1, y1, \"x\", color = \"black\")\n",
    "plt.plot(x2, f(x2), color = \"purple\")"
   ]
  },
  {
   "cell_type": "code",
   "execution_count": null,
   "id": "a804ce2e",
   "metadata": {},
   "outputs": [],
   "source": []
  }
 ],
 "metadata": {
  "kernelspec": {
   "display_name": "Python 3 (ipykernel)",
   "language": "python",
   "name": "python3"
  },
  "language_info": {
   "codemirror_mode": {
    "name": "ipython",
    "version": 3
   },
   "file_extension": ".py",
   "mimetype": "text/x-python",
   "name": "python",
   "nbconvert_exporter": "python",
   "pygments_lexer": "ipython3",
   "version": "3.9.7"
  },
  "toc": {
   "base_numbering": 1,
   "nav_menu": {},
   "number_sections": true,
   "sideBar": true,
   "skip_h1_title": false,
   "title_cell": "Table of Contents",
   "title_sidebar": "Contents",
   "toc_cell": false,
   "toc_position": {},
   "toc_section_display": true,
   "toc_window_display": false
  },
  "varInspector": {
   "cols": {
    "lenName": 16,
    "lenType": 16,
    "lenVar": 40
   },
   "kernels_config": {
    "python": {
     "delete_cmd_postfix": "",
     "delete_cmd_prefix": "del ",
     "library": "var_list.py",
     "varRefreshCmd": "print(var_dic_list())"
    },
    "r": {
     "delete_cmd_postfix": ") ",
     "delete_cmd_prefix": "rm(",
     "library": "var_list.r",
     "varRefreshCmd": "cat(var_dic_list()) "
    }
   },
   "types_to_exclude": [
    "module",
    "function",
    "builtin_function_or_method",
    "instance",
    "_Feature"
   ],
   "window_display": false
  }
 },
 "nbformat": 4,
 "nbformat_minor": 5
}
